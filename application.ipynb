{
 "cells": [
  {
   "cell_type": "markdown",
   "metadata": {},
   "source": [
    "# Test Application"
   ]
  },
  {
   "cell_type": "code",
   "execution_count": 1,
   "metadata": {},
   "outputs": [],
   "source": [
    "import numpy as np\n",
    "import pandas as pd\n",
    "from scipy import stats\n",
    "import librosa, librosa.display\n",
    "import matplotlib.pyplot as plt\n",
    "import sklearn as skl\n",
    "import sklearn.utils, sklearn.preprocessing, sklearn.decomposition, sklearn.svm, sklearn.neural_network"
   ]
  },
  {
   "cell_type": "code",
   "execution_count": 2,
   "metadata": {},
   "outputs": [],
   "source": [
    "features = pd.read_csv('data/fma_metadata/features.csv', index_col=0, header=[0, 1, 2])\n",
    "tracks = pd.read_csv('data/fma_metadata/tracks.csv', index_col=0, header=[0, 1])"
   ]
  },
  {
   "cell_type": "code",
   "execution_count": 3,
   "metadata": {},
   "outputs": [],
   "source": [
    "def columns():\n",
    "    feature_sizes = dict(chroma_stft=12, chroma_cqt=12, chroma_cens=12,\n",
    "                         tonnetz=6, mfcc=20, rmse=1, zcr=1,\n",
    "                         spectral_centroid=1, spectral_bandwidth=1,\n",
    "                         spectral_contrast=7, spectral_rolloff=1)\n",
    "    moments = ('mean', 'std', 'skew', 'kurtosis', 'median', 'min', 'max')\n",
    "\n",
    "    columns = []\n",
    "    for name, size in feature_sizes.items():\n",
    "        for moment in moments:\n",
    "            it = ((name, moment, '{:02d}'.format(i+1)) for i in range(size))\n",
    "            columns.extend(it)\n",
    "\n",
    "    names = ('feature', 'statistics', 'number')\n",
    "    columns = pd.MultiIndex.from_tuples(columns, names=names)\n",
    "\n",
    "    return columns.sort_values()\n",
    "\n",
    "\n",
    "def compute_features(filepath):\n",
    "\n",
    "    features = pd.Series(index=columns(), dtype=np.float32)\n",
    "\n",
    "    def feature_stats(name, values):\n",
    "        features[name, 'mean'] = np.mean(values, axis=1)\n",
    "        features[name, 'std'] = np.std(values, axis=1)\n",
    "        features[name, 'skew'] = stats.skew(values, axis=1)\n",
    "        features[name, 'kurtosis'] = stats.kurtosis(values, axis=1)\n",
    "        features[name, 'median'] = np.median(values, axis=1)\n",
    "        features[name, 'min'] = np.min(values, axis=1)\n",
    "        features[name, 'max'] = np.max(values, axis=1)\n",
    "\n",
    "    x, sr = librosa.load(filepath, sr=None, mono=True)  # kaiser_fast\n",
    "    f = librosa.feature.zero_crossing_rate(x, frame_length=2048, hop_length=512)\n",
    "    feature_stats('zcr', f)\n",
    "\n",
    "    cqt = np.abs(librosa.cqt(x, sr=sr, hop_length=512, bins_per_octave=12,\n",
    "                                 n_bins=7*12, tuning=None))\n",
    "\n",
    "    f = librosa.feature.chroma_cqt(C=cqt, n_chroma=12, n_octaves=7)\n",
    "    feature_stats('chroma_cqt', f)\n",
    "    f = librosa.feature.chroma_cens(C=cqt, n_chroma=12, n_octaves=7)\n",
    "    feature_stats('chroma_cens', f)\n",
    "    f = librosa.feature.tonnetz(chroma=f)\n",
    "    feature_stats('tonnetz', f)\n",
    "\n",
    "    stft = np.abs(librosa.stft(x, n_fft=2048, hop_length=512))\n",
    "\n",
    "    f = librosa.feature.chroma_stft(S=stft**2, n_chroma=12)\n",
    "    feature_stats('chroma_stft', f)\n",
    "\n",
    "    f = librosa.feature.rmse(S=stft)\n",
    "    feature_stats('rmse', f)\n",
    "\n",
    "    f = librosa.feature.spectral_centroid(S=stft)\n",
    "    feature_stats('spectral_centroid', f)\n",
    "    f = librosa.feature.spectral_bandwidth(S=stft)\n",
    "    feature_stats('spectral_bandwidth', f)\n",
    "    f = librosa.feature.spectral_contrast(S=stft, n_bands=6)\n",
    "    feature_stats('spectral_contrast', f)\n",
    "    f = librosa.feature.spectral_rolloff(S=stft)\n",
    "    feature_stats('spectral_rolloff', f)\n",
    "\n",
    "    mel = librosa.feature.melspectrogram(sr=sr, S=stft**2)\n",
    "\n",
    "    f = librosa.feature.mfcc(S=librosa.power_to_db(mel), n_mfcc=20)\n",
    "    feature_stats('mfcc', f)\n",
    "    return [features]"
   ]
  },
  {
   "cell_type": "code",
   "execution_count": 20,
   "metadata": {},
   "outputs": [],
   "source": [
    "CENS = 'chroma_cens'\n",
    "CQT = 'chroma_cqt'\n",
    "STFT = 'chroma_stft'\n",
    "MFCC = 'mfcc'\n",
    "RMSE = 'rmse'\n",
    "BW = 'spectral_bandwidth'\n",
    "CENT = 'spectral_centroid'\n",
    "CONT = 'spectral_contrast'\n",
    "ROLLOFF = 'spectral_rolloff'\n",
    "TON = 'tonnetz'\n",
    "ZCR = 'zcr'\n",
    "all_features = [CENS,CQT,STFT,MFCC,RMSE,BW,CENT,CONT,ROLLOFF,TON,ZCR]\n",
    "\n",
    "class Ridge(object):\n",
    "    def __init__(self,tracks,features):\n",
    "        self.tracks = tracks\n",
    "        self.features = features\n",
    "        self.small = tracks['set', 'subset'] <= 'small'\n",
    "        self.training = tracks['set', 'split'] == 'training'\n",
    "        self.validation = tracks['set', 'split'] == 'validation'\n",
    "        self.testing = tracks['set', 'split'] == 'test'\n",
    "    \n",
    "    \n",
    "    def datasplit(self,feature_array):\n",
    "        # takes an array of features [MFCC, CONT]\n",
    "        X_train_temp = self.features.loc[self.small & (self.training | self.validation), feature_array]\n",
    "        X_test_temp = self.features.loc[self.small & self.testing, feature_array]\n",
    "        y_train_temp = self.tracks.loc[self.small & (self.training | self.validation), ('track', 'genre_top')]\n",
    "        y_test_temp = self.tracks.loc[self.small & self.testing, ('track', 'genre_top')]\n",
    "        y_train = y_train_temp.dropna()\n",
    "        y_test = y_test_temp.dropna()\n",
    "        X_train = X_train_temp.drop(y_train_temp.drop(y_train.index).index)\n",
    "        X_test = X_test_temp.drop(y_test_temp.drop(y_test.index).index)\n",
    "        EXPERIMENTAL = self.tracks['track', 'genre_top'] == \"Experimental\"\n",
    "        X_train = X_train.drop(X_train.loc[EXPERIMENTAL].index)\n",
    "        y_train = y_train.drop(y_train.loc[EXPERIMENTAL].index)\n",
    "        X_test = X_test.drop(X_test.loc[EXPERIMENTAL].index)\n",
    "        y_test = y_test.drop(y_test.loc[EXPERIMENTAL].index)\n",
    "        return skl.utils.shuffle(X_train, y_train, random_state=42), X_test, y_test\n",
    "    \n",
    "    # given parameters achieves the highest score\n",
    "    def train(self, feature_array=all_features):\n",
    "        (X_train, y_train), X_test, y_test = self.datasplit(feature_array)\n",
    "        scaler = skl.preprocessing.StandardScaler(copy=False)\n",
    "        scaler.fit_transform(X_train)\n",
    "        scaler.transform(X_test)\n",
    "        self.classifier = skl.linear_model.RidgeClassifierCV().fit(X_train,y_train)\n",
    "        print(self.classifier)\n",
    "        print(\"Training Report: \", self.classifier.score(X_train,y_train))\n",
    "        print()\n",
    "        print(\"Test Report: \", self.classifier.score(X_test,y_test))\n",
    "\n",
    "    def test(self, wav_test):\n",
    "        print(self.classifier.predict(wav_test))\n",
    "        print(self.classifier.decision_function(wav_test))"
   ]
  },
  {
   "cell_type": "code",
   "execution_count": 21,
   "metadata": {},
   "outputs": [
    {
     "name": "stdout",
     "output_type": "stream",
     "text": [
      "RidgeClassifierCV(alphas=array([ 0.1,  1. , 10. ]), class_weight=None,\n",
      "         cv=None, fit_intercept=True, normalize=False, scoring=None,\n",
      "         store_cv_values=False)\n",
      "Training Report:  0.6777417150666211\n",
      "\n",
      "Test Report:  0.6267459906880497\n"
     ]
    }
   ],
   "source": [
    "ridge = Ridge(tracks,features)\n",
    "ridge.train()"
   ]
  },
  {
   "cell_type": "markdown",
   "metadata": {},
   "source": [
    "# Enter .wav audio file"
   ]
  },
  {
   "cell_type": "code",
   "execution_count": 29,
   "metadata": {
    "scrolled": false
   },
   "outputs": [
    {
     "name": "stdout",
     "output_type": "stream",
     "text": [
      "['Rock']\n",
      "[[ -12.30872202  -70.71925159   19.70638773    5.61572131   42.8348706\n",
      "  -254.17009276  -99.16455954 -111.82285323  148.3404572    41.98093916\n",
      "    13.75785448    8.58695246  213.85991222    8.23121985   32.27116414]]\n"
     ]
    }
   ],
   "source": [
    "ridge.test(compute_features('rock.wav'))"
   ]
  }
 ],
 "metadata": {
  "kernelspec": {
   "display_name": "Python 3",
   "language": "python",
   "name": "python3"
  }
 },
 "nbformat": 4,
 "nbformat_minor": 2
}
